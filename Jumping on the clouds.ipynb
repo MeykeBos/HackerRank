{
 "cells": [
  {
   "cell_type": "markdown",
   "metadata": {},
   "source": [
    "# Jumping on the clouds"
   ]
  },
  {
   "cell_type": "markdown",
   "metadata": {},
   "source": [
    "www.hackerrank.com/challenges/jumping-on-the-clouds/problem"
   ]
  },
  {
   "cell_type": "code",
   "execution_count": 2,
   "metadata": {},
   "outputs": [],
   "source": [
    "def jumpingOnClouds(c):\n",
    "    countSteps = 0\n",
    "    currentStep = 0\n",
    "    while currentStep < len(c)-1:\n",
    "        print('currentStep: ', currentStep)\n",
    "        if currentStep + 2 <= len(c) -1:\n",
    "            if c[currentStep + 2] == 0:\n",
    "                currentStep = currentStep + 2\n",
    "                countSteps += 1\n",
    "                print('test 1')\n",
    "            else:\n",
    "                if c[currentStep + 1] == 0:\n",
    "                    currentStep = currentStep + 1\n",
    "                    countSteps += 1\n",
    "                    print('test 2')\n",
    "        else:\n",
    "            if c[currentStep + 1] == 0:\n",
    "                    currentStep = currentStep + 2\n",
    "                    countSteps += 1\n",
    "                    print('test 3')\n",
    "    return(countSteps)"
   ]
  },
  {
   "cell_type": "code",
   "execution_count": 3,
   "metadata": {},
   "outputs": [],
   "source": [
    "c = [0, 0, 1, 0, 0, 1, 0]"
   ]
  },
  {
   "cell_type": "code",
   "execution_count": 4,
   "metadata": {},
   "outputs": [
    {
     "name": "stdout",
     "output_type": "stream",
     "text": [
      "currentStep:  0\n",
      "test 2\n",
      "currentStep:  1\n",
      "test 1\n",
      "currentStep:  3\n",
      "test 2\n",
      "currentStep:  4\n",
      "test 1\n"
     ]
    },
    {
     "data": {
      "text/plain": [
       "4"
      ]
     },
     "execution_count": 4,
     "metadata": {},
     "output_type": "execute_result"
    }
   ],
   "source": [
    "jumpingOnClouds(c)"
   ]
  },
  {
   "cell_type": "code",
   "execution_count": null,
   "metadata": {},
   "outputs": [],
   "source": []
  }
 ],
 "metadata": {
  "kernelspec": {
   "display_name": "Python 3",
   "language": "python",
   "name": "python3"
  },
  "language_info": {
   "codemirror_mode": {
    "name": "ipython",
    "version": 3
   },
   "file_extension": ".py",
   "mimetype": "text/x-python",
   "name": "python",
   "nbconvert_exporter": "python",
   "pygments_lexer": "ipython3",
   "version": "3.8.5"
  }
 },
 "nbformat": 4,
 "nbformat_minor": 4
}
