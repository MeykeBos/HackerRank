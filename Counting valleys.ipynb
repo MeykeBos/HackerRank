{
 "cells": [
  {
   "cell_type": "markdown",
   "metadata": {},
   "source": [
    "# Counting valleys"
   ]
  },
  {
   "cell_type": "markdown",
   "metadata": {},
   "source": [
    "www.hackerrank.com/challenges/counting-valleys/problem"
   ]
  },
  {
   "cell_type": "code",
   "execution_count": 1,
   "metadata": {},
   "outputs": [],
   "source": [
    "def countingValleys(steps, path):\n",
    "    noValleys = 0\n",
    "    aboveSealevel = 0\n",
    "    pathway = []\n",
    "    for x in path:\n",
    "        if x == 'D':\n",
    "            aboveSealevel -= 1\n",
    "        else:\n",
    "            aboveSealevel += 1\n",
    "        pathway.append(aboveSealevel)\n",
    "    #print(pathway)\n",
    "    previousStep = 0\n",
    "    for i in range(len(pathway)):\n",
    "        #print('prev step', previousStep)\n",
    "        #print('pathway', pathway[i])\n",
    "        if pathway[i] == 0 and previousStep == -1:\n",
    "            noValleys += 1\n",
    "            previousStep = pathway[i]\n",
    "        else:\n",
    "            previousStep = pathway[i]\n",
    "    return(noValleys)"
   ]
  },
  {
   "cell_type": "code",
   "execution_count": 2,
   "metadata": {},
   "outputs": [
    {
     "name": "stdout",
     "output_type": "stream",
     "text": [
      "1\n"
     ]
    }
   ],
   "source": [
    "print(countingValleys(8, 'UDDDUDUU'))"
   ]
  }
 ],
 "metadata": {
  "kernelspec": {
   "display_name": "Python 3",
   "language": "python",
   "name": "python3"
  },
  "language_info": {
   "codemirror_mode": {
    "name": "ipython",
    "version": 3
   },
   "file_extension": ".py",
   "mimetype": "text/x-python",
   "name": "python",
   "nbconvert_exporter": "python",
   "pygments_lexer": "ipython3",
   "version": "3.8.5"
  }
 },
 "nbformat": 4,
 "nbformat_minor": 4
}
