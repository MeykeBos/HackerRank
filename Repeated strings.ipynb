{
 "cells": [
  {
   "cell_type": "markdown",
   "metadata": {},
   "source": [
    "# Repeated strings"
   ]
  },
  {
   "cell_type": "markdown",
   "metadata": {},
   "source": [
    "www.hackerrank.com/challenges/repeated-string/problem"
   ]
  },
  {
   "cell_type": "code",
   "execution_count": 1,
   "metadata": {},
   "outputs": [],
   "source": [
    "def repeatedString(s, n):\n",
    "    letterAinString = 0\n",
    "    for y in s:\n",
    "        if y == 'a':\n",
    "            letterAinString  += 1\n",
    "    #print(letterAinString)\n",
    "    numberOfTimes = int(n/len(s))\n",
    "    #print(\"noTimes: \", numberOfTimes)\n",
    "    extraLetters = n % len(s)\n",
    "    letterA = letterAinString * numberOfTimes\n",
    "    #print(\"letterA first time: \", letterA)\n",
    "    #print(\"extraLetters: \", extraLetters)\n",
    "    for x in range(len(s)):\n",
    "        #print(\"print x: \", x)\n",
    "        if x < extraLetters:\n",
    "            if s[x] == 'a':\n",
    "                letterA += 1\n",
    "    return(letterA)"
   ]
  },
  {
   "cell_type": "code",
   "execution_count": 2,
   "metadata": {},
   "outputs": [],
   "source": [
    "s = 'aba'\n",
    "n = 10"
   ]
  },
  {
   "cell_type": "code",
   "execution_count": 3,
   "metadata": {},
   "outputs": [
    {
     "data": {
      "text/plain": [
       "7"
      ]
     },
     "execution_count": 3,
     "metadata": {},
     "output_type": "execute_result"
    }
   ],
   "source": [
    "repeatedString(s,n)"
   ]
  },
  {
   "cell_type": "code",
   "execution_count": null,
   "metadata": {},
   "outputs": [],
   "source": []
  }
 ],
 "metadata": {
  "kernelspec": {
   "display_name": "Python 3",
   "language": "python",
   "name": "python3"
  },
  "language_info": {
   "codemirror_mode": {
    "name": "ipython",
    "version": 3
   },
   "file_extension": ".py",
   "mimetype": "text/x-python",
   "name": "python",
   "nbconvert_exporter": "python",
   "pygments_lexer": "ipython3",
   "version": "3.8.5"
  }
 },
 "nbformat": 4,
 "nbformat_minor": 4
}
