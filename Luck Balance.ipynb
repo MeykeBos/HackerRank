{
 "cells": [
  {
   "cell_type": "markdown",
   "metadata": {},
   "source": [
    "# Luck Balance"
   ]
  },
  {
   "cell_type": "markdown",
   "metadata": {},
   "source": [
    "www.hackerrank.com/challenges/luck-balance/problem"
   ]
  },
  {
   "cell_type": "code",
   "execution_count": 1,
   "metadata": {},
   "outputs": [],
   "source": [
    "from operator import itemgetter\n",
    "\n",
    "def luckBalance(k, contests):\n",
    "    sumOfLuck = 0\n",
    "    important = []\n",
    "    for x in contests:\n",
    "        if x[1] == 0:\n",
    "            sumOfLuck += x[0]\n",
    "        else:\n",
    "            important.append(x[0])\n",
    "    important.sort(reverse=True)\n",
    "    for z in range(len(important)):\n",
    "        #print(z)\n",
    "        if z < k:\n",
    "            #print('k: ', k )\n",
    "            sumOfLuck += important[z]\n",
    "        else:\n",
    "            sumOfLuck -= important[z]\n",
    "    return(sumOfLuck)"
   ]
  },
  {
   "cell_type": "code",
   "execution_count": 2,
   "metadata": {},
   "outputs": [],
   "source": [
    "contests = [[5, 1], [2, 1], [1, 1], [8, 1], [10, 0], [5, 0]]\n",
    "k = 3"
   ]
  },
  {
   "cell_type": "code",
   "execution_count": 3,
   "metadata": {},
   "outputs": [
    {
     "data": {
      "text/plain": [
       "29"
      ]
     },
     "execution_count": 3,
     "metadata": {},
     "output_type": "execute_result"
    }
   ],
   "source": [
    "luckBalance(k, contests)"
   ]
  }
 ],
 "metadata": {
  "kernelspec": {
   "display_name": "Python 3",
   "language": "python",
   "name": "python3"
  },
  "language_info": {
   "codemirror_mode": {
    "name": "ipython",
    "version": 3
   },
   "file_extension": ".py",
   "mimetype": "text/x-python",
   "name": "python",
   "nbconvert_exporter": "python",
   "pygments_lexer": "ipython3",
   "version": "3.8.5"
  }
 },
 "nbformat": 4,
 "nbformat_minor": 4
}
