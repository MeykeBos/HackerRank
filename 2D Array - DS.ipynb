{
 "cells": [
  {
   "cell_type": "markdown",
   "metadata": {},
   "source": [
    "# 2D array - DS"
   ]
  },
  {
   "cell_type": "markdown",
   "metadata": {},
   "source": [
    "www.hackerrank.com/challenges/2d-array/problem"
   ]
  },
  {
   "cell_type": "markdown",
   "metadata": {},
   "source": [
    "<i>Given a 6x6 2D Array,arr.\n",
    "An hourglass in A is a subset of values with indices falling in this pattern in arr's graphical representation. \n",
    "There are 16 hourglasses in arr. An hourglass sum is the sum of an hourglass' values. Calculate the hourglass sum for every hourglass in arr, then print the maximum hourglass sum. The array will always be 4x4.\n",
    "Each hourglass has a sum. </i>\n",
    "\n",
    "<b>Function Description</b>\n",
    "- Complete the function hourglassSum in the editor below.\n",
    "\n",
    "<b>hourglassSum has the following parameter(s)</b>\n",
    "- int arr[6][6]: an array of integers\n",
    "\n",
    "<b>Returns</b>\n",
    "- int: the maximum hourglass sum\n",
    "\n",
    "<b>Input Format</b>\n",
    "- Each of the 6 lines of inputs arr[i] contains 6 space-separated integers arr[i][j].\n",
    "\n",
    "<b>Output Format</b>\n",
    "- Print the largest (maximum) hourglass sum found in .\n",
    "\n",
    "<b>Sample Input</b>\n",
    "- 6*6 2D array\n",
    "\n",
    "<b>Sample Output</b>\n",
    "- 19"
   ]
  },
  {
   "cell_type": "code",
   "execution_count": 4,
   "metadata": {},
   "outputs": [],
   "source": [
    "import numpy as np\n",
    "arr = np.array([[1, 1, 1, 0, 0, 0],[0, 1, 0, 0, 0, 0],[1, 1, 1, 0, 0, 0],[0, 0, 2, 4, 4, 0],[0, 0, 0, 2, 0, 0],[0, 0, 1, 2, 4, 0]])"
   ]
  },
  {
   "cell_type": "code",
   "execution_count": 5,
   "metadata": {},
   "outputs": [
    {
     "data": {
      "text/plain": [
       "array([[1, 1, 1, 0, 0, 0],\n",
       "       [0, 1, 0, 0, 0, 0],\n",
       "       [1, 1, 1, 0, 0, 0],\n",
       "       [0, 0, 2, 4, 4, 0],\n",
       "       [0, 0, 0, 2, 0, 0],\n",
       "       [0, 0, 1, 2, 4, 0]])"
      ]
     },
     "execution_count": 5,
     "metadata": {},
     "output_type": "execute_result"
    }
   ],
   "source": [
    "arr"
   ]
  },
  {
   "cell_type": "code",
   "execution_count": 8,
   "metadata": {},
   "outputs": [],
   "source": [
    "def hourglassSum(arr):\n",
    "    listOfHourGlassSums = []\n",
    "    for r in range(4):\n",
    "        for c in range(4):\n",
    "            listOfHourGlassSums.append(hourGlass(r,c))\n",
    "    return(max(listOfHourGlassSums))\n"
   ]
  },
  {
   "cell_type": "code",
   "execution_count": 9,
   "metadata": {},
   "outputs": [
    {
     "data": {
      "text/plain": [
       "19"
      ]
     },
     "execution_count": 9,
     "metadata": {},
     "output_type": "execute_result"
    }
   ],
   "source": [
    "hourglassSum(arr)"
   ]
  }
 ],
 "metadata": {
  "kernelspec": {
   "display_name": "Python 3",
   "language": "python",
   "name": "python3"
  },
  "language_info": {
   "codemirror_mode": {
    "name": "ipython",
    "version": 3
   },
   "file_extension": ".py",
   "mimetype": "text/x-python",
   "name": "python",
   "nbconvert_exporter": "python",
   "pygments_lexer": "ipython3",
   "version": "3.8.5"
  }
 },
 "nbformat": 4,
 "nbformat_minor": 4
}
