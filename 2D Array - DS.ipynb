{
 "cells": [
  {
   "cell_type": "markdown",
   "metadata": {},
   "source": [
    "# 2D array - DS"
   ]
  },
  {
   "cell_type": "markdown",
   "metadata": {},
   "source": [
    "www.hackerrank.com/challenges/2d-array/problem"
   ]
  },
  {
   "cell_type": "markdown",
   "metadata": {},
   "source": [
    "Given a 6*6 2D Array,arr:\n",
    "\n",
    "1 1 1 0 0 0\n",
    "0 1 0 0 0 0\n",
    "1 1 1 0 0 0\n",
    "0 0 0 0 0 0\n",
    "0 0 0 0 0 0\n",
    "0 0 0 0 0 0\n",
    "\n",
    "An hourglass in A is a subset of values with indices falling in this pattern in arr's graphical representation:\n",
    "\n",
    "a b c\n",
    "  d\n",
    "e f g\n",
    "\n",
    "There are 16 hourglasses in arr. An hourglass sum is the sum of an hourglass' values. Calculate the hourglass sum for every hourglass in , then print the maximum hourglass sum. The array will always be 4*4.\n",
    "\n",
    "Example arr =\n",
    "\n",
    "-9 -9 -9  1 1 1 \n",
    " 0 -9  0  4 3 2\n",
    "-9 -9 -9  1 2 3\n",
    " 0  0  8  6 6 0\n",
    " 0  0  0 -2 0 0\n",
    " 0  0  1  2 4 0\n",
    " \n",
    "The 16 hourglass sums are:\n",
    "\n",
    "-63, -34, -9, 12, \n",
    "-10,   0, 28, 23, \n",
    "-27, -11, -2, 10, \n",
    "  9,  17, 25, 18\n",
    "  \n",
    "The highest hourglass sum is 28 from the hourglass beginning at row 1, column 2:\n",
    "\n",
    "0 4 3\n",
    "  1\n",
    "8 6 6\n",
    "\n",
    "Function Description\n",
    "Complete the function hourglassSum in the editor below.\n",
    "\n",
    "hourglassSum has the following parameter(s):\n",
    "- int arr[6][6]: an array of integers\n",
    "\n",
    "Returns\n",
    "- int: the maximum hourglass sum\n",
    "\n",
    "Input Format\n",
    "- Each of the 6 lines of inputs arr[i] contains 6 space-separated integers arr[i][j].\n",
    "\n",
    "Output Format\n",
    "- Print the largest (maximum) hourglass sum found in .\n",
    "\n",
    "Sample Input\n",
    "\n",
    "1 1 1 0 0 0\n",
    "0 1 0 0 0 0\n",
    "1 1 1 0 0 0\n",
    "0 0 2 4 4 0\n",
    "0 0 0 2 0 0\n",
    "0 0 1 2 4 0\n",
    "\n",
    "Sample Output\n",
    "19"
   ]
  },
  {
   "cell_type": "code",
   "execution_count": 4,
   "metadata": {},
   "outputs": [],
   "source": [
    "import numpy as np\n",
    "arr = np.array([[1, 1, 1, 0, 0, 0],[0, 1, 0, 0, 0, 0],[1, 1, 1, 0, 0, 0],[0, 0, 2, 4, 4, 0],[0, 0, 0, 2, 0, 0],[0, 0, 1, 2, 4, 0]])"
   ]
  },
  {
   "cell_type": "code",
   "execution_count": 5,
   "metadata": {},
   "outputs": [
    {
     "data": {
      "text/plain": [
       "array([[1, 1, 1, 0, 0, 0],\n",
       "       [0, 1, 0, 0, 0, 0],\n",
       "       [1, 1, 1, 0, 0, 0],\n",
       "       [0, 0, 2, 4, 4, 0],\n",
       "       [0, 0, 0, 2, 0, 0],\n",
       "       [0, 0, 1, 2, 4, 0]])"
      ]
     },
     "execution_count": 5,
     "metadata": {},
     "output_type": "execute_result"
    }
   ],
   "source": [
    "arr"
   ]
  },
  {
   "cell_type": "code",
   "execution_count": 6,
   "metadata": {},
   "outputs": [],
   "source": [
    "def hourGlass(r,c):\n",
    "    total = 0\n",
    "    total += arr[r][c]+arr[r][c+1]+arr[r][c+2]+arr[r+1][c+1]+arr[r+2][c]+arr[r+2][c+1]+arr[r+2][c+2]\n",
    "    return(total)\n",
    "\n",
    "def hourglassSum(arr):\n",
    "    listOfHourGlassSums = []\n",
    "    for r in range(4):\n",
    "        for c in range(4):\n",
    "            listOfHourGlassSums.append(hourGlass(r,c))\n",
    "    return(max(listOfHourGlassSums))\n"
   ]
  },
  {
   "cell_type": "code",
   "execution_count": 7,
   "metadata": {},
   "outputs": [
    {
     "data": {
      "text/plain": [
       "19"
      ]
     },
     "execution_count": 7,
     "metadata": {},
     "output_type": "execute_result"
    }
   ],
   "source": [
    "hourglassSum(arr)"
   ]
  },
  {
   "cell_type": "code",
   "execution_count": null,
   "metadata": {},
   "outputs": [],
   "source": []
  }
 ],
 "metadata": {
  "kernelspec": {
   "display_name": "Python 3",
   "language": "python",
   "name": "python3"
  },
  "language_info": {
   "codemirror_mode": {
    "name": "ipython",
    "version": 3
   },
   "file_extension": ".py",
   "mimetype": "text/x-python",
   "name": "python",
   "nbconvert_exporter": "python",
   "pygments_lexer": "ipython3",
   "version": "3.8.5"
  }
 },
 "nbformat": 4,
 "nbformat_minor": 4
}
