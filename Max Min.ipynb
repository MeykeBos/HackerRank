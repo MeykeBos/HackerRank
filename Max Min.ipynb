{
 "cells": [
  {
   "cell_type": "markdown",
   "metadata": {},
   "source": [
    "# Max Min"
   ]
  },
  {
   "cell_type": "markdown",
   "metadata": {},
   "source": [
    "www.hackerrank.com/challenges/angry-children/problem"
   ]
  },
  {
   "cell_type": "code",
   "execution_count": 5,
   "metadata": {},
   "outputs": [],
   "source": [
    "def maxMin(k, arrs):\n",
    "    arrs.sort()\n",
    "    smallestDifference = 10000000^2\n",
    "    for x in range(len(arrs)-k+1):\n",
    "        tempoList = arrs[0+x:k+x]\n",
    "        print(tempoList)\n",
    "        if tempoList[k-1] - tempoList[0] < smallestDifference:\n",
    "            smallestDifference = tempoList[k-1] - tempoList[0]\n",
    "    return(smallestDifference)"
   ]
  },
  {
   "cell_type": "code",
   "execution_count": 6,
   "metadata": {},
   "outputs": [],
   "source": [
    "arrs = [10, 100, 300, 200, 1000, 20, 30]\n",
    "k = 3"
   ]
  },
  {
   "cell_type": "code",
   "execution_count": 7,
   "metadata": {},
   "outputs": [
    {
     "name": "stdout",
     "output_type": "stream",
     "text": [
      "[10, 20, 30]\n",
      "[20, 30, 100]\n",
      "[30, 100, 200]\n",
      "[100, 200, 300]\n",
      "[200, 300, 1000]\n"
     ]
    },
    {
     "data": {
      "text/plain": [
       "20"
      ]
     },
     "execution_count": 7,
     "metadata": {},
     "output_type": "execute_result"
    }
   ],
   "source": [
    "maxMin(k,arrs)"
   ]
  }
 ],
 "metadata": {
  "kernelspec": {
   "display_name": "Python 3",
   "language": "python",
   "name": "python3"
  },
  "language_info": {
   "codemirror_mode": {
    "name": "ipython",
    "version": 3
   },
   "file_extension": ".py",
   "mimetype": "text/x-python",
   "name": "python",
   "nbconvert_exporter": "python",
   "pygments_lexer": "ipython3",
   "version": "3.8.5"
  }
 },
 "nbformat": 4,
 "nbformat_minor": 4
}
